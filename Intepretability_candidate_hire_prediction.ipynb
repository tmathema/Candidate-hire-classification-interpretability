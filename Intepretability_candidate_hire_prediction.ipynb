{
  "nbformat": 4,
  "nbformat_minor": 0,
  "metadata": {
    "colab": {
      "provenance": [],
      "authorship_tag": "ABX9TyMdSCMNSy1Zp0b/b59u6uI3",
      "include_colab_link": true
    },
    "kernelspec": {
      "name": "python3",
      "display_name": "Python 3"
    },
    "language_info": {
      "name": "python"
    }
  },
  "cells": [
    {
      "cell_type": "markdown",
      "metadata": {
        "id": "view-in-github",
        "colab_type": "text"
      },
      "source": [
        "<a href=\"https://colab.research.google.com/github/tmathema/Candidate-hire-classification-interpretability/blob/main/Intepretability_candidate_hire_prediction.ipynb\" target=\"_parent\"><img src=\"https://colab.research.google.com/assets/colab-badge.svg\" alt=\"Open In Colab\"/></a>"
      ]
    },
    {
      "cell_type": "code",
      "execution_count": null,
      "metadata": {
        "id": "H9LFxFZ8X88c"
      },
      "outputs": [],
      "source": [
        "import pandas as pd\n",
        "import numpy as np"
      ]
    },
    {
      "cell_type": "code",
      "source": [
        "from google.colab import drive\n",
        "drive.mount('/content/gdrive')"
      ],
      "metadata": {
        "colab": {
          "base_uri": "https://localhost:8080/"
        },
        "id": "HLii0H5NYJTp",
        "outputId": "9a0aab85-06b5-4430-d5e6-bebd16d87cb7"
      },
      "execution_count": null,
      "outputs": [
        {
          "output_type": "stream",
          "name": "stdout",
          "text": [
            "Drive already mounted at /content/gdrive; to attempt to forcibly remount, call drive.mount(\"/content/gdrive\", force_remount=True).\n"
          ]
        }
      ]
    },
    {
      "cell_type": "code",
      "source": [
        "#uploading the datasets\n",
        "candidates = pd.read_csv('/content/gdrive/MyDrive/absa_assessment/candidates.csv')\n",
        "admissions = pd.read_csv('/content/gdrive/MyDrive/absa_assessment/admissions.csv')"
      ],
      "metadata": {
        "id": "GvxPTDUNXPXn"
      },
      "execution_count": null,
      "outputs": []
    },
    {
      "cell_type": "code",
      "source": [
        "#average age of candidates\n",
        "print(candidates.age.mean())"
      ],
      "metadata": {
        "colab": {
          "base_uri": "https://localhost:8080/"
        },
        "id": "ML3a3__eZQRt",
        "outputId": "21049a01-e0d1-4a33-f7d2-bdda9eb77dca"
      },
      "execution_count": null,
      "outputs": [
        {
          "output_type": "stream",
          "name": "stdout",
          "text": [
            "43173.60390471217\n"
          ]
        }
      ]
    },
    {
      "cell_type": "code",
      "source": [
        "#bar plot showing the data distribution of the participants' age\n",
        "candidates.age.value_counts().plot(kind = 'bar', figsize=(18, 6))"
      ],
      "metadata": {
        "colab": {
          "base_uri": "https://localhost:8080/",
          "height": 451
        },
        "id": "urH2n7fQZZwX",
        "outputId": "1175e41e-eacf-4a31-feed-bf05c58de7cf"
      },
      "execution_count": null,
      "outputs": [
        {
          "output_type": "execute_result",
          "data": {
            "text/plain": [
              "<AxesSubplot:>"
            ]
          },
          "metadata": {},
          "execution_count": 57
        },
        {
          "output_type": "display_data",
          "data": {
            "text/plain": [
              "<Figure size 1296x432 with 1 Axes>"
            ],
            "image/png": "[encoded data removed]"
          },
          "metadata": {
            "needs_background": "light"
          }
        }
      ]
    },
    {
      "cell_type": "markdown",
      "source": [
        "**Assumptions:**\n",
        "The basic minimum age for employment is 16, and age of retirement is generally between 60 and 65 years, however, an employee cannot be forced to retire unless their employment contract specifies the retirement age or there is a company policy that sets the official age for retirement. Therefore, data was filtered based on ages between, 16 and 100, to exclude the participants below the minimum prescribed age of recruitment and outliers."
      ],
      "metadata": {
        "id": "pPfg1Nx8QXZ0"
      }
    },
    {
      "cell_type": "code",
      "source": [
        "#filtering the data based on age.\n",
        "candidates = candidates[candidates.age.between(16,100, inclusive = True)]"
      ],
      "metadata": {
        "colab": {
          "base_uri": "https://localhost:8080/"
        },
        "id": "L9cRk0GsalfW",
        "outputId": "b7acc203-9d3e-4426-afa9-3efd8ae16d33"
      },
      "execution_count": null,
      "outputs": [
        {
          "output_type": "stream",
          "name": "stderr",
          "text": [
            "Boolean inputs to the `inclusive` argument are deprecated infavour of `both` or `neither`.\n"
          ]
        }
      ]
    },
    {
      "cell_type": "code",
      "source": [
        "#bar plot showing the data distribution of the gender of participants\n",
        "candidates.gender.value_counts().plot(kind = 'bar')"
      ],
      "metadata": {
        "colab": {
          "base_uri": "https://localhost:8080/",
          "height": 309
        },
        "id": "Y6kmfjK3YxZf",
        "outputId": "0643ae68-8ce3-416f-c9ee-3818cfddf409"
      },
      "execution_count": null,
      "outputs": [
        {
          "output_type": "execute_result",
          "data": {
            "text/plain": [
              "<AxesSubplot:>"
            ]
          },
          "metadata": {},
          "execution_count": 59
        },
        {
          "output_type": "display_data",
          "data": {
            "text/plain": [
              "<Figure size 432x288 with 1 Axes>"
            ],
            "image/png": "[encoded data removed]"
          },
          "metadata": {
            "needs_background": "light"
          }
        }
      ]
    },
    {
      "cell_type": "code",
      "source": [
        "#data distribution of departments\n",
        "admissions.department.value_counts().plot(kind = 'bar')"
      ],
      "metadata": {
        "colab": {
          "base_uri": "https://localhost:8080/",
          "height": 285
        },
        "id": "sKxGXDvNcsbc",
        "outputId": "c267cc77-65db-4963-adbc-0b7229f073cc"
      },
      "execution_count": null,
      "outputs": [
        {
          "output_type": "execute_result",
          "data": {
            "text/plain": [
              "<AxesSubplot:>"
            ]
          },
          "metadata": {},
          "execution_count": 60
        },
        {
          "output_type": "display_data",
          "data": {
            "text/plain": [
              "<Figure size 432x288 with 1 Axes>"
            ],
            "image/png": "[encoded data removed]"
          },
          "metadata": {
            "needs_background": "light"
          }
        }
      ]
    },
    {
      "cell_type": "code",
      "source": [
        "# merging the data set based on candidate id\n",
        "data = pd.merge(candidates, admissions, how=\"inner\", on='candidate_id')"
      ],
      "metadata": {
        "id": "bNOXH23Sc7el"
      },
      "execution_count": null,
      "outputs": []
    },
    {
      "cell_type": "code",
      "source": [
        "data.head(2)"
      ],
      "metadata": {
        "colab": {
          "base_uri": "https://localhost:8080/",
          "height": 112
        },
        "id": "fnUYP2ghiB0f",
        "outputId": "cf18398f-80ae-45c1-9600-c796f1a5c44a"
      },
      "execution_count": null,
      "outputs": [
        {
          "output_type": "execute_result",
          "data": {
            "text/plain": [
              "            name  candidate_id   age  gender  no_children  emp_card_id  \\\n",
              "0      Geneva Le        928100  43.0  Female          NaN       7505.0   \n",
              "1  Marilyn Weber        913797  51.0    Male          0.0          NaN   \n",
              "\n",
              "  department     admit  \n",
              "0          D  Admitted  \n",
              "1          C  Admitted  "
            ],
            "text/html": [
              "\n",
              "  <div id=\"df-e8c8e8dc-9d90-4efe-b1d3-5bbde3569799\">\n",
              "    <div class=\"colab-df-container\">\n",
              "      <div>\n",
              "<style scoped>\n",
              "    .dataframe tbody tr th:only-of-type {\n",
              "        vertical-align: middle;\n",
              "    }\n",
              "\n",
              "    .dataframe tbody tr th {\n",
              "        vertical-align: top;\n",
              "    }\n",
              "\n",
              "    .dataframe thead th {\n",
              "        text-align: right;\n",
              "    }\n",
              "</style>\n",
              "<table border=\"1\" class=\"dataframe\">\n",
              "  <thead>\n",
              "    <tr style=\"text-align: right;\">\n",
              "      <th></th>\n",
              "      <th>name</th>\n",
              "      <th>candidate_id</th>\n",
              "      <th>age</th>\n",
              "      <th>gender</th>\n",
              "      <th>no_children</th>\n",
              "      <th>emp_card_id</th>\n",
              "      <th>department</th>\n",
              "      <th>admit</th>\n",
              "    </tr>\n",
              "  </thead>\n",
              "  <tbody>\n",
              "    <tr>\n",
              "      <th>0</th>\n",
              "      <td>Geneva Le</td>\n",
              "      <td>928100</td>\n",
              "      <td>43.0</td>\n",
              "      <td>Female</td>\n",
              "      <td>NaN</td>\n",
              "      <td>7505.0</td>\n",
              "      <td>D</td>\n",
              "      <td>Admitted</td>\n",
              "    </tr>\n",
              "    <tr>\n",
              "      <th>1</th>\n",
              "      <td>Marilyn Weber</td>\n",
              "      <td>913797</td>\n",
              "      <td>51.0</td>\n",
              "      <td>Male</td>\n",
              "      <td>0.0</td>\n",
              "      <td>NaN</td>\n",
              "      <td>C</td>\n",
              "      <td>Admitted</td>\n",
              "    </tr>\n",
              "  </tbody>\n",
              "</table>\n",
              "</div>\n",
              "      <button class=\"colab-df-convert\" onclick=\"convertToInteractive('df-e8c8e8dc-9d90-4efe-b1d3-5bbde3569799')\"\n",
              "              title=\"Convert this dataframe to an interactive table.\"\n",
              "              style=\"display:none;\">\n",
              "        \n",
              "  <svg xmlns=\"http://www.w3.org/2000/svg\" height=\"24px\"viewBox=\"0 0 24 24\"\n",
              "       width=\"24px\">\n",
              "    <path d=\"M0 0h24v24H0V0z\" fill=\"none\"/>\n",
              "    <path d=\"M18.56 5.44l.94 2.06.94-2.06 2.06-.94-2.06-.94-.94-2.06-.94 2.06-2.06.94zm-11 1L8.5 8.5l.94-2.06 2.06-.94-2.06-.94L8.5 2.5l-.94 2.06-2.06.94zm10 10l.94 2.06.94-2.06 2.06-.94-2.06-.94-.94-2.06-.94 2.06-2.06.94z\"/><path d=\"M17.41 7.96l-1.37-1.37c-.4-.4-.92-.59-1.43-.59-.52 0-1.04.2-1.43.59L10.3 9.45l-7.72 7.72c-.78.78-.78 2.05 0 2.83L4 21.41c.39.39.9.59 1.41.59.51 0 1.02-.2 1.41-.59l7.78-7.78 2.81-2.81c.8-.78.8-2.07 0-2.86zM5.41 20L4 18.59l7.72-7.72 1.47 1.35L5.41 20z\"/>\n",
              "  </svg>\n",
              "      </button>\n",
              "      \n",
              "  <style>\n",
              "    .colab-df-container {\n",
              "      display:flex;\n",
              "      flex-wrap:wrap;\n",
              "      gap: 12px;\n",
              "    }\n",
              "\n",
              "    .colab-df-convert {\n",
              "      background-color: #E8F0FE;\n",
              "      border: none;\n",
              "      border-radius: 50%;\n",
              "      cursor: pointer;\n",
              "      display: none;\n",
              "      fill: #1967D2;\n",
              "      height: 32px;\n",
              "      padding: 0 0 0 0;\n",
              "      width: 32px;\n",
              "    }\n",
              "\n",
              "    .colab-df-convert:hover {\n",
              "      background-color: #E2EBFA;\n",
              "      box-shadow: 0px 1px 2px rgba(60, 64, 67, 0.3), 0px 1px 3px 1px rgba(60, 64, 67, 0.15);\n",
              "      fill: #174EA6;\n",
              "    }\n",
              "\n",
              "    [theme=dark] .colab-df-convert {\n",
              "      background-color: #3B4455;\n",
              "      fill: #D2E3FC;\n",
              "    }\n",
              "\n",
              "    [theme=dark] .colab-df-convert:hover {\n",
              "      background-color: #434B5C;\n",
              "      box-shadow: 0px 1px 3px 1px rgba(0, 0, 0, 0.15);\n",
              "      filter: drop-shadow(0px 1px 2px rgba(0, 0, 0, 0.3));\n",
              "      fill: #FFFFFF;\n",
              "    }\n",
              "  </style>\n",
              "\n",
              "      <script>\n",
              "        const buttonEl =\n",
              "          document.querySelector('#df-e8c8e8dc-9d90-4efe-b1d3-5bbde3569799 button.colab-df-convert');\n",
              "        buttonEl.style.display =\n",
              "          google.colab.kernel.accessAllowed ? 'block' : 'none';\n",
              "\n",
              "        async function convertToInteractive(key) {\n",
              "          const element = document.querySelector('#df-e8c8e8dc-9d90-4efe-b1d3-5bbde3569799');\n",
              "          const dataTable =\n",
              "            await google.colab.kernel.invokeFunction('convertToInteractive',\n",
              "                                                     [key], {});\n",
              "          if (!dataTable) return;\n",
              "\n",
              "          const docLinkHtml = 'Like what you see? Visit the ' +\n",
              "            '<a target=\"_blank\" href=https://colab.research.google.com/notebooks/data_table.ipynb>data table notebook</a>'\n",
              "            + ' to learn more about interactive tables.';\n",
              "          element.innerHTML = '';\n",
              "          dataTable['output_type'] = 'display_data';\n",
              "          await google.colab.output.renderOutput(dataTable, element);\n",
              "          const docLink = document.createElement('div');\n",
              "          docLink.innerHTML = docLinkHtml;\n",
              "          element.appendChild(docLink);\n",
              "        }\n",
              "      </script>\n",
              "    </div>\n",
              "  </div>\n",
              "  "
            ]
          },
          "metadata": {},
          "execution_count": 62
        }
      ]
    },
    {
      "cell_type": "code",
      "source": [
        "#checking for missing data\n",
        "data.isna().sum()"
      ],
      "metadata": {
        "colab": {
          "base_uri": "https://localhost:8080/"
        },
        "id": "nebhJRnjcpjz",
        "outputId": "f5602859-5b47-47b6-df84-6889ff557736"
      },
      "execution_count": null,
      "outputs": [
        {
          "output_type": "execute_result",
          "data": {
            "text/plain": [
              "name                0\n",
              "candidate_id        0\n",
              "age                 0\n",
              "gender              0\n",
              "no_children      9552\n",
              "emp_card_id     42084\n",
              "department          0\n",
              "admit               0\n",
              "dtype: int64"
            ]
          },
          "metadata": {},
          "execution_count": 63
        }
      ]
    },
    {
      "cell_type": "markdown",
      "source": [
        "# Data preprocessing"
      ],
      "metadata": {
        "id": "Ceb-ABdhgsG4"
      }
    },
    {
      "cell_type": "code",
      "source": [
        "#re-encoding of the categorical variables: gender, departments and admit\n",
        "from sklearn.preprocessing import LabelEncoder\n",
        "label_encoder = LabelEncoder()\n",
        "\n",
        "data['gender'] = label_encoder.fit_transform(data['gender'])\n",
        "data['department'] = label_encoder.fit_transform(data['department'])\n",
        "data['admit'] = label_encoder.fit_transform(data['admit'])"
      ],
      "metadata": {
        "id": "IhIx6xtemt9B"
      },
      "execution_count": null,
      "outputs": []
    },
    {
      "cell_type": "code",
      "source": [
        "#standardisation of the variables age and number of children\n",
        "from sklearn.preprocessing import StandardScaler\n",
        "# standardization\n",
        "data[['age', 'no_children']] = StandardScaler().fit_transform(data[['age', 'no_children']])"
      ],
      "metadata": {
        "id": "d4_IYqv3wxff"
      },
      "execution_count": null,
      "outputs": []
    },
    {
      "cell_type": "code",
      "source": [
        "#undersampling the dataset to make it balanced\n",
        "from imblearn.under_sampling import RandomUnderSampler\n",
        "under_sampler = RandomUnderSampler(random_state=42)\n",
        "from sklearn.model_selection import train_test_split\n",
        "from collections import Counter\n",
        "X_data_balanced, y_data_balanced = under_sampler.fit_resample(data[['age', 'gender', 'no_children', 'department']], data['admit'])\n",
        "print(f\"Training target statistics: {Counter(X_data_balanced)}\")\n",
        "print(f\"Training target statistics: {Counter(y_data_balanced)}\")"
      ],
      "metadata": {
        "colab": {
          "base_uri": "https://localhost:8080/"
        },
        "id": "d-XVeF6EjHbt",
        "outputId": "f409e2de-4425-40b6-f1c2-1298b45db12c"
      },
      "execution_count": null,
      "outputs": [
        {
          "output_type": "stream",
          "name": "stdout",
          "text": [
            "Training target statistics: Counter({'age': 1, 'gender': 1, 'no_children': 1, 'department': 1})\n",
            "Training target statistics: Counter({0: 25037, 1: 25037})\n"
          ]
        }
      ]
    },
    {
      "cell_type": "code",
      "source": [
        "#splitting the dataset into train and test sets\n",
        "X_train, X_test = train_test_split(X_data_balanced, test_size=0.2, random_state =123)\n",
        "y_train, y_test = train_test_split(y_data_balanced, test_size=0.2, random_state =123)"
      ],
      "metadata": {
        "id": "wk7fDjxVjkL6"
      },
      "execution_count": null,
      "outputs": []
    },
    {
      "cell_type": "markdown",
      "source": [
        "Model Selection:\n",
        "Assessed 2 base models: XGBoost and Support vector models.\n",
        "The model with the highest accuracy was be chosen.\n",
        "\n",
        "\n"
      ],
      "metadata": {
        "id": "Oc5f1YBhg662"
      }
    },
    {
      "cell_type": "code",
      "source": [
        "## XGBoost\n",
        "import xgboost\n",
        "from numpy import mean\n",
        "from numpy import std\n",
        "xgb_model = xgboost.XGBClassifier()\n",
        "from sklearn.model_selection import cross_val_score\n",
        "score=cross_val_score(xgb_model,X_train,y_train,cv=10)\n",
        "# report performance\n",
        "print('Accuracy: %.3f (%.3f)' % (mean(score), std(score)))"
      ],
      "metadata": {
        "colab": {
          "base_uri": "https://localhost:8080/"
        },
        "id": "FRMSFNlTVfdH",
        "outputId": "070d7c83-b396-447b-9cb5-3ea64916b611"
      },
      "execution_count": null,
      "outputs": [
        {
          "output_type": "stream",
          "name": "stdout",
          "text": [
            "Accuracy: 0.901 (0.005)\n"
          ]
        }
      ]
    },
    {
      "cell_type": "code",
      "source": [
        "#we will need to exclude nan's to fit the svm model\n",
        "data_svm = data[['age', 'gender', 'no_children', 'department', 'admit']].dropna()"
      ],
      "metadata": {
        "id": "3dXdfH2acmkh"
      },
      "execution_count": null,
      "outputs": []
    },
    {
      "cell_type": "code",
      "source": [
        "#undersampling the dataset to make it balanced\n",
        "from imblearn.under_sampling import RandomUnderSampler\n",
        "under_sampler = RandomUnderSampler(random_state=42)\n",
        "from sklearn.model_selection import train_test_split\n",
        "from collections import Counter\n",
        "X_data_balanced_svm, y_data_balanced_svm = under_sampler.fit_resample(data_svm[['age', 'gender', 'no_children', 'department']],\n",
        "                                                                      data_svm['admit'])\n",
        "print(f\"Training target statistics: {Counter(X_data_balanced)}\")\n",
        "print(f\"Training target statistics: {Counter(y_data_balanced)}\")"
      ],
      "metadata": {
        "colab": {
          "base_uri": "https://localhost:8080/"
        },
        "id": "ZGSEP2HXeyvs",
        "outputId": "1208d108-861d-40fc-cb78-af9ecc5e7bdb"
      },
      "execution_count": null,
      "outputs": [
        {
          "output_type": "stream",
          "name": "stdout",
          "text": [
            "Training target statistics: Counter({'age': 1, 'gender': 1, 'no_children': 1, 'department': 1})\n",
            "Training target statistics: Counter({0: 25037, 1: 25037})\n"
          ]
        }
      ]
    },
    {
      "cell_type": "code",
      "source": [
        "#splitting the dataset into train and test sets\n",
        "X_train_svm, X_test_svm = train_test_split(X_data_balanced_svm, test_size=0.2, random_state =123)\n",
        "y_train_svm, y_test_svm = train_test_split(y_data_balanced_svm, test_size=0.2, random_state =123)"
      ],
      "metadata": {
        "id": "IdagPTQdfJ-x"
      },
      "execution_count": null,
      "outputs": []
    },
    {
      "cell_type": "code",
      "source": [
        "# Fitting Kernel SVM to the Training set\n",
        "from sklearn.svm import SVC\n",
        "svm_model = SVC(kernel = 'linear', random_state = 0)\n",
        "svm_model.fit(X_train_svm, y_train_svm)\n",
        "# Predicting the Test set results\n",
        "y_pred = svm_model.predict(X_test_svm)\n",
        "from sklearn.metrics import accuracy_score\n",
        "accuracy=accuracy_score(y_test_svm,y_pred)\n",
        "accuracy"
      ],
      "metadata": {
        "colab": {
          "base_uri": "https://localhost:8080/"
        },
        "id": "q7TIN7PJk5NT",
        "outputId": "0ad82a26-e9d0-441a-8171-06275352ed74"
      },
      "execution_count": null,
      "outputs": [
        {
          "output_type": "execute_result",
          "data": {
            "text/plain": [
              "0.880349344978166"
            ]
          },
          "metadata": {},
          "execution_count": 72
        }
      ]
    },
    {
      "cell_type": "markdown",
      "source": [
        "#Model training\n",
        "\n",
        "The XGBoost model has the highest accuracy, hence will be choosen for evaluation."
      ],
      "metadata": {
        "id": "i273ug8BiFFT"
      }
    },
    {
      "cell_type": "code",
      "source": [
        "## Hyper Parameter Optimization to choose the model with the best parameters\n",
        "params={\n",
        " \"learning_rate\"    : [0.05, 0.10, 0.15, 0.20, 0.25, 0.3, 0.4],\n",
        " \"max_depth\"        : [ 3, 4, 5, 6, 8, 10, 12, 15],\n",
        " \"min_child_weight\" : [ 1, 3, 5, 7 ],\n",
        " \"gamma\"            : [ 0.0, 0.1, 0.2 , 0.3, 0.4 ],\n",
        " \"colsample_bytree\" : [ 0.3, 0.4, 0.5 , 0.7 ]\n",
        "\n",
        "}"
      ],
      "metadata": {
        "id": "8MtIvFf8V72M"
      },
      "execution_count": null,
      "outputs": []
    },
    {
      "cell_type": "code",
      "source": [
        "# Hyper parameter tuning using random search\n",
        "from sklearn.model_selection import RandomizedSearchCV, GridSearchCV\n",
        "random_search=RandomizedSearchCV(xgb_model,param_distributions=params,n_iter=5,scoring='roc_auc',n_jobs=-1,cv=5,\n",
        "                                 verbose=3, random_state = 1)"
      ],
      "metadata": {
        "id": "CxDticyPV0g3"
      },
      "execution_count": null,
      "outputs": []
    },
    {
      "cell_type": "code",
      "source": [
        "#random serch for the best hyper parameters.\n",
        "random_search.fit(X_train,y_train)"
      ],
      "metadata": {
        "colab": {
          "base_uri": "https://localhost:8080/"
        },
        "id": "ZrmJeaskWLGo",
        "outputId": "e7831255-4b46-4b7b-aea7-ad46c9d30518"
      },
      "execution_count": null,
      "outputs": [
        {
          "output_type": "stream",
          "name": "stdout",
          "text": [
            "Fitting 5 folds for each of 5 candidates, totalling 25 fits\n"
          ]
        },
        {
          "output_type": "execute_result",
          "data": {
            "text/plain": [
              "RandomizedSearchCV(cv=5,\n",
              "                   estimator=XGBClassifier(base_score=None, booster=None,\n",
              "                                           callbacks=None,\n",
              "                                           colsample_bylevel=None,\n",
              "                                           colsample_bynode=None,\n",
              "                                           colsample_bytree=None,\n",
              "                                           early_stopping_rounds=None,\n",
              "                                           enable_categorical=False,\n",
              "                                           eval_metric=None, feature_types=None,\n",
              "                                           gamma=None, gpu_id=None,\n",
              "                                           grow_policy=None,\n",
              "                                           importance_type=None,\n",
              "                                           interaction_constraints=None,\n",
              "                                           learning_rate...\n",
              "                                           n_estimators=100, n_jobs=None,\n",
              "                                           num_parallel_tree=None,\n",
              "                                           predictor=None, random_state=None, ...),\n",
              "                   n_iter=5, n_jobs=-1,\n",
              "                   param_distributions={'colsample_bytree': [0.3, 0.4, 0.5,\n",
              "                                                             0.7],\n",
              "                                        'gamma': [0.0, 0.1, 0.2, 0.3, 0.4],\n",
              "                                        'learning_rate': [0.05, 0.1, 0.15, 0.2,\n",
              "                                                          0.25, 0.3, 0.4],\n",
              "                                        'max_depth': [3, 4, 5, 6, 8, 10, 12,\n",
              "                                                      15],\n",
              "                                        'min_child_weight': [1, 3, 5, 7]},\n",
              "                   random_state=1, scoring='roc_auc', verbose=3)"
            ]
          },
          "metadata": {},
          "execution_count": 75
        }
      ]
    },
    {
      "cell_type": "code",
      "source": [
        "random_search.best_estimator_"
      ],
      "metadata": {
        "colab": {
          "base_uri": "https://localhost:8080/"
        },
        "id": "L1RNdMTJWdVS",
        "outputId": "4e6253cc-30a8-4227-e8ad-18b369731116"
      },
      "execution_count": null,
      "outputs": [
        {
          "output_type": "execute_result",
          "data": {
            "text/plain": [
              "XGBClassifier(base_score=None, booster=None, callbacks=None,\n",
              "              colsample_bylevel=None, colsample_bynode=None,\n",
              "              colsample_bytree=0.5, early_stopping_rounds=None,\n",
              "              enable_categorical=False, eval_metric=None, feature_types=None,\n",
              "              gamma=0.2, gpu_id=None, grow_policy=None, importance_type=None,\n",
              "              interaction_constraints=None, learning_rate=0.4, max_bin=None,\n",
              "              max_cat_threshold=None, max_cat_to_onehot=None,\n",
              "              max_delta_step=None, max_depth=6, max_leaves=None,\n",
              "              min_child_weight=7, missing=nan, monotone_constraints=None,\n",
              "              n_estimators=100, n_jobs=None, num_parallel_tree=None,\n",
              "              predictor=None, random_state=None, ...)"
            ]
          },
          "metadata": {},
          "execution_count": 76
        }
      ]
    },
    {
      "cell_type": "code",
      "source": [
        "# hyperparameters ascertained by the random search\n",
        "random_search.best_params_"
      ],
      "metadata": {
        "colab": {
          "base_uri": "https://localhost:8080/"
        },
        "id": "gbEIjQoUWjGc",
        "outputId": "bbf88089-03f0-49cf-87e3-9fb3fceb6ddd"
      },
      "execution_count": null,
      "outputs": [
        {
          "output_type": "execute_result",
          "data": {
            "text/plain": [
              "{'min_child_weight': 7,\n",
              " 'max_depth': 6,\n",
              " 'learning_rate': 0.4,\n",
              " 'gamma': 0.2,\n",
              " 'colsample_bytree': 0.5}"
            ]
          },
          "metadata": {},
          "execution_count": 77
        }
      ]
    },
    {
      "cell_type": "code",
      "source": [
        "#initialising the model\n",
        "classifier=xgboost.XGBClassifier(base_score=0.5, booster='gbtree', colsample_bylevel=1,\n",
        "       colsample_bytree=0.5, gamma=0.2, learning_rate=0.4,\n",
        "       max_delta_step=0, max_depth=6, min_child_weight=7, missing=1,\n",
        "       n_estimators=100, n_jobs=1, nthread=None,\n",
        "       objective='binary:logistic', random_state=0, reg_alpha=0,\n",
        "       reg_lambda=1, scale_pos_weight=1, seed=None, silent=True,\n",
        "       subsample=1, verbosity=0)"
      ],
      "metadata": {
        "id": "xnMYCfIDWnNv"
      },
      "execution_count": null,
      "outputs": []
    },
    {
      "cell_type": "code",
      "source": [
        "from sklearn.model_selection import cross_val_score\n",
        "score=cross_val_score(classifier,X_train,y_train,cv=10)\n",
        "score"
      ],
      "metadata": {
        "colab": {
          "base_uri": "https://localhost:8080/"
        },
        "id": "pwRa7doIXQkj",
        "outputId": "b20b4f8f-f49f-4b96-e188-f73778c41b4b"
      },
      "execution_count": null,
      "outputs": [
        {
          "output_type": "execute_result",
          "data": {
            "text/plain": [
              "array([0.89715427, 0.89241138, 0.89790315, 0.89965052, 0.90314528,\n",
              "       0.89715427, 0.90289566, 0.8994009 , 0.90763854, 0.91210986])"
            ]
          },
          "metadata": {},
          "execution_count": 79
        }
      ]
    },
    {
      "cell_type": "code",
      "source": [
        "from numpy import mean\n",
        "from numpy import std\n",
        "# report performance\n",
        "print('Accuracy: %.3f (%.3f)' % (mean(score), std(score)))"
      ],
      "metadata": {
        "colab": {
          "base_uri": "https://localhost:8080/"
        },
        "id": "2mWJ6b2uXbg4",
        "outputId": "b8bf5aef-7b50-4f7c-ed09-29428b9c04d2"
      },
      "execution_count": null,
      "outputs": [
        {
          "output_type": "stream",
          "name": "stdout",
          "text": [
            "Accuracy: 0.901 (0.005)\n"
          ]
        }
      ]
    },
    {
      "cell_type": "code",
      "source": [
        "# Creating some predictions.\n",
        "from sklearn.model_selection import cross_val_predict\n",
        "y_test_pred = cross_val_predict(classifier, X_test, y_test, cv=5)\n",
        "\n",
        "# Constructing the confusion matrix.\n",
        "from sklearn.metrics import confusion_matrix\n",
        "confusion_matrix(y_test, y_test_pred)\n"
      ],
      "metadata": {
        "colab": {
          "base_uri": "https://localhost:8080/"
        },
        "id": "YbOhjC6hzyGr",
        "outputId": "606b8dd8-ee7c-434c-c8eb-61bdecf1617f"
      },
      "execution_count": null,
      "outputs": [
        {
          "output_type": "execute_result",
          "data": {
            "text/plain": [
              "array([[4444,  483],\n",
              "       [ 503, 4585]])"
            ]
          },
          "metadata": {},
          "execution_count": 81
        }
      ]
    },
    {
      "cell_type": "code",
      "source": [
        "# Finding precision and recall\n",
        "from sklearn.metrics import precision_score, recall_score\n",
        "print(precision_score(y_test, y_test_pred))\n",
        "print(recall_score(y_test, y_test_pred))"
      ],
      "metadata": {
        "colab": {
          "base_uri": "https://localhost:8080/"
        },
        "id": "A-JW56Wb22WO",
        "outputId": "fa1b096b-8e37-419a-d655-592589146bd5"
      },
      "execution_count": null,
      "outputs": [
        {
          "output_type": "stream",
          "name": "stdout",
          "text": [
            "0.9046961325966851\n",
            "0.9011399371069182\n"
          ]
        }
      ]
    },
    {
      "cell_type": "code",
      "source": [
        "from sklearn.metrics import roc_curve\n",
        "from sklearn.metrics import roc_auc_score\n",
        "from matplotlib import pyplot"
      ],
      "metadata": {
        "id": "2io7_RzT4Od4"
      },
      "execution_count": null,
      "outputs": []
    },
    {
      "cell_type": "code",
      "source": [
        "ns_probs = [0 for _ in range(len(y_test))]\n",
        "classifier.fit(X_test, y_test)\n",
        "# predict probabilities\n",
        "lr_probs = classifier.predict_proba(X_test)\n",
        "# keep probabilities for the positive outcome only\n",
        "lr_probs = lr_probs[:, 1]\n",
        "# calculate scores\n",
        "ns_auc = roc_auc_score(y_test, ns_probs)\n",
        "lr_auc = roc_auc_score(y_test, lr_probs)\n",
        "# summarize scores\n",
        "#print('No Skill: ROC AUC=%.3f' % (ns_auc))\n",
        "print('XG-Boost model: ROC AUC=%.3f' % (lr_auc))\n",
        "# calculate roc curves\n",
        "ns_fpr, ns_tpr, _ = roc_curve(y_test, ns_probs)\n",
        "lr_fpr, lr_tpr, _ = roc_curve(y_test, lr_probs)\n",
        "# plot the roc curve for the model\n",
        "pyplot.plot(ns_fpr, ns_tpr, linestyle='--', label='')\n",
        "pyplot.plot(lr_fpr, lr_tpr, marker='.', label='XG Boost model')\n",
        "# axis labels\n",
        "pyplot.xlabel('False Positive Rate')\n",
        "pyplot.ylabel('True Positive Rate')\n",
        "# show the legend\n",
        "pyplot.legend()\n",
        "# show the plot\n",
        "pyplot.show()"
      ],
      "metadata": {
        "colab": {
          "base_uri": "https://localhost:8080/",
          "height": 297
        },
        "id": "OxAQaVhd8_Qa",
        "outputId": "ba925d20-d9b9-433a-fb21-922635194a9c"
      },
      "execution_count": null,
      "outputs": [
        {
          "output_type": "stream",
          "name": "stdout",
          "text": [
            "XG-Boost model: ROC AUC=0.971\n"
          ]
        },
        {
          "output_type": "display_data",
          "data": {
            "text/plain": [
              "<Figure size 432x288 with 1 Axes>"
            ],
            "image/png": "[encoded data removed]"
          },
          "metadata": {
            "needs_background": "light"
          }
        }
      ]
    },
    {
      "cell_type": "code",
      "source": [
        "# Applying Grid Search to find the best model and the best parameters: it took a long time to run, hence not implemented\n",
        "#from sklearn.model_selection import GridSearchCV\n",
        "#grid_search = GridSearchCV(estimator = classifier,\n",
        "#                           param_grid = params,\n",
        "#                           scoring = 'accuracy',\n",
        "#                           cv = 10,\n",
        "#                           n_jobs = -1)\n",
        "#grid_search = grid_search.fit(X_train, y_train)\n",
        "#accuracy = grid_search.best_score_\n",
        "#grid_search.best_params_"
      ],
      "metadata": {
        "id": "C52HUxzwlTZq"
      },
      "execution_count": null,
      "outputs": []
    },
    {
      "cell_type": "markdown",
      "source": [
        "# Interpretability:\n",
        "Used the SHapley Additive exPlanations(SHAP) methodology for interpretation.\n",
        "https://github.com/shankarpandala/lazypredict.\n",
        "\n",
        "The SHAP methodology shows the contribution or the importance of each feature on the prediction of the model."
      ],
      "metadata": {
        "id": "PETCXvSqrQNY"
      }
    },
    {
      "cell_type": "code",
      "source": [
        "!pip install shap"
      ],
      "metadata": {
        "id": "iEkxc9X4tyul"
      },
      "execution_count": null,
      "outputs": []
    },
    {
      "cell_type": "code",
      "source": [
        "import shap\n",
        "# Fit the model on the data\n",
        "classifier.fit(X_train, y_train)"
      ],
      "metadata": {
        "colab": {
          "base_uri": "https://localhost:8080/"
        },
        "id": "rC1C1sDHt46i",
        "outputId": "9d542985-bbf3-47a2-e582-15c99ac828f7"
      },
      "execution_count": null,
      "outputs": [
        {
          "output_type": "execute_result",
          "data": {
            "text/plain": [
              "XGBClassifier(base_score=0.5, booster='gbtree', callbacks=None,\n",
              "              colsample_bylevel=1, colsample_bynode=None, colsample_bytree=0.5,\n",
              "              early_stopping_rounds=None, enable_categorical=False,\n",
              "              eval_metric=None, feature_types=None, gamma=0.2, gpu_id=None,\n",
              "              grow_policy=None, importance_type=None,\n",
              "              interaction_constraints=None, learning_rate=0.4, max_bin=None,\n",
              "              max_cat_threshold=None, max_cat_to_onehot=None, max_delta_step=0,\n",
              "              max_depth=6, max_leaves=None, min_child_weight=7, missing=1,\n",
              "              monotone_constraints=None, n_estimators=100, n_jobs=1,\n",
              "              nthread=None, num_parallel_tree=None, predictor=None, ...)"
            ]
          },
          "metadata": {},
          "execution_count": 87
        }
      ]
    },
    {
      "cell_type": "code",
      "source": [
        "# Fits the explainer\n",
        "explainer = shap.Explainer(classifier.predict, X_test)\n",
        "# Calculates the SHAP values - It takes some time\n",
        "shap_values = explainer(X_test)"
      ],
      "metadata": {
        "colab": {
          "base_uri": "https://localhost:8080/"
        },
        "id": "fC3w0PnXueQT",
        "outputId": "f87960ad-2bd6-49b4-d05c-594c43b75ec1"
      },
      "execution_count": null,
      "outputs": [
        {
          "output_type": "stream",
          "name": "stderr",
          "text": [
            "Exact explainer: 10016it [02:07, 72.11it/s]                            \n"
          ]
        }
      ]
    },
    {
      "cell_type": "code",
      "source": [
        "#variable importance plot\n",
        "shap.plots.bar(shap_values)"
      ],
      "metadata": {
        "colab": {
          "base_uri": "https://localhost:8080/",
          "height": 255
        },
        "id": "uxzPYBVxvf5f",
        "outputId": "be13c136-f5c3-49a8-bfce-ec8d14f0e578"
      },
      "execution_count": null,
      "outputs": [
        {
          "output_type": "display_data",
          "data": {
            "text/plain": [
              "<Figure size 576x252 with 1 Axes>"
            ],
            "image/png": "[encoded data removed]"
          },
          "metadata": {}
        }
      ]
    },
    {
      "cell_type": "code",
      "source": [
        "#interaction of features and SHAP values\n",
        "#On the beeswarm the features are also ordered by their effect on prediction,\n",
        "#but we can also see how higher and lower values of the feature will affect the result.\n",
        "#the beeswarm plot\n",
        "shap.summary_plot(shap_values)"
      ],
      "metadata": {
        "colab": {
          "base_uri": "https://localhost:8080/",
          "height": 233
        },
        "id": "xGEE93VFvzPP",
        "outputId": "a6012e19-5e10-4a55-fc8f-29f5a0fc7709"
      },
      "execution_count": null,
      "outputs": [
        {
          "output_type": "display_data",
          "data": {
            "text/plain": [
              "<Figure size 576x223.2 with 2 Axes>"
            ],
            "image/png": "[encoded data removed]"
          },
          "metadata": {
            "needs_background": "light"
          }
        }
      ]
    },
    {
      "cell_type": "markdown",
      "source": [
        "From the Beeswarn plot above, there is a clear separation between lower  and upper gender values' contribution to the predictions. The lower values contributed to the lower values of SHAP and higher values contributed to higher values of SHAP. This signifies a possibility of discrimination against a certain gender."
      ],
      "metadata": {
        "id": "EjcqC2QHwlr2"
      }
    },
    {
      "cell_type": "markdown",
      "source": [
        "The next plots will show how features influenced a single prediction. For example participant 0 and 1, who were females and participant 3 and 4 who was male."
      ],
      "metadata": {
        "id": "BO_pMsj7yHOb"
      }
    },
    {
      "cell_type": "code",
      "source": [
        "X_test.head()"
      ],
      "metadata": {
        "colab": {
          "base_uri": "https://localhost:8080/",
          "height": 206
        },
        "id": "z6mOeRd7xzMh",
        "outputId": "2cb4ea52-584a-4553-a0c6-c3caa37c9da8"
      },
      "execution_count": null,
      "outputs": [
        {
          "output_type": "execute_result",
          "data": {
            "text/plain": [
              "            age  gender  no_children  department\n",
              "45970 -1.273891       0    -1.189543           2\n",
              "32802 -1.498754       0    -1.189543           3\n",
              "7259  -0.374437       0          NaN           4\n",
              "36469  0.075290       1          NaN           3\n",
              "2803   1.649334       1     2.200214           0"
            ],
            "text/html": [
              "\n",
              "  <div id=\"df-64621517-f3d2-465e-89b9-ceb2e429c704\">\n",
              "    <div class=\"colab-df-container\">\n",
              "      <div>\n",
              "<style scoped>\n",
              "    .dataframe tbody tr th:only-of-type {\n",
              "        vertical-align: middle;\n",
              "    }\n",
              "\n",
              "    .dataframe tbody tr th {\n",
              "        vertical-align: top;\n",
              "    }\n",
              "\n",
              "    .dataframe thead th {\n",
              "        text-align: right;\n",
              "    }\n",
              "</style>\n",
              "<table border=\"1\" class=\"dataframe\">\n",
              "  <thead>\n",
              "    <tr style=\"text-align: right;\">\n",
              "      <th></th>\n",
              "      <th>age</th>\n",
              "      <th>gender</th>\n",
              "      <th>no_children</th>\n",
              "      <th>department</th>\n",
              "    </tr>\n",
              "  </thead>\n",
              "  <tbody>\n",
              "    <tr>\n",
              "      <th>45970</th>\n",
              "      <td>-1.273891</td>\n",
              "      <td>0</td>\n",
              "      <td>-1.189543</td>\n",
              "      <td>2</td>\n",
              "    </tr>\n",
              "    <tr>\n",
              "      <th>32802</th>\n",
              "      <td>-1.498754</td>\n",
              "      <td>0</td>\n",
              "      <td>-1.189543</td>\n",
              "      <td>3</td>\n",
              "    </tr>\n",
              "    <tr>\n",
              "      <th>7259</th>\n",
              "      <td>-0.374437</td>\n",
              "      <td>0</td>\n",
              "      <td>NaN</td>\n",
              "      <td>4</td>\n",
              "    </tr>\n",
              "    <tr>\n",
              "      <th>36469</th>\n",
              "      <td>0.075290</td>\n",
              "      <td>1</td>\n",
              "      <td>NaN</td>\n",
              "      <td>3</td>\n",
              "    </tr>\n",
              "    <tr>\n",
              "      <th>2803</th>\n",
              "      <td>1.649334</td>\n",
              "      <td>1</td>\n",
              "      <td>2.200214</td>\n",
              "      <td>0</td>\n",
              "    </tr>\n",
              "  </tbody>\n",
              "</table>\n",
              "</div>\n",
              "      <button class=\"colab-df-convert\" onclick=\"convertToInteractive('df-64621517-f3d2-465e-89b9-ceb2e429c704')\"\n",
              "              title=\"Convert this dataframe to an interactive table.\"\n",
              "              style=\"display:none;\">\n",
              "        \n",
              "  <svg xmlns=\"http://www.w3.org/2000/svg\" height=\"24px\"viewBox=\"0 0 24 24\"\n",
              "       width=\"24px\">\n",
              "    <path d=\"M0 0h24v24H0V0z\" fill=\"none\"/>\n",
              "    <path d=\"M18.56 5.44l.94 2.06.94-2.06 2.06-.94-2.06-.94-.94-2.06-.94 2.06-2.06.94zm-11 1L8.5 8.5l.94-2.06 2.06-.94-2.06-.94L8.5 2.5l-.94 2.06-2.06.94zm10 10l.94 2.06.94-2.06 2.06-.94-2.06-.94-.94-2.06-.94 2.06-2.06.94z\"/><path d=\"M17.41 7.96l-1.37-1.37c-.4-.4-.92-.59-1.43-.59-.52 0-1.04.2-1.43.59L10.3 9.45l-7.72 7.72c-.78.78-.78 2.05 0 2.83L4 21.41c.39.39.9.59 1.41.59.51 0 1.02-.2 1.41-.59l7.78-7.78 2.81-2.81c.8-.78.8-2.07 0-2.86zM5.41 20L4 18.59l7.72-7.72 1.47 1.35L5.41 20z\"/>\n",
              "  </svg>\n",
              "      </button>\n",
              "      \n",
              "  <style>\n",
              "    .colab-df-container {\n",
              "      display:flex;\n",
              "      flex-wrap:wrap;\n",
              "      gap: 12px;\n",
              "    }\n",
              "\n",
              "    .colab-df-convert {\n",
              "      background-color: #E8F0FE;\n",
              "      border: none;\n",
              "      border-radius: 50%;\n",
              "      cursor: pointer;\n",
              "      display: none;\n",
              "      fill: #1967D2;\n",
              "      height: 32px;\n",
              "      padding: 0 0 0 0;\n",
              "      width: 32px;\n",
              "    }\n",
              "\n",
              "    .colab-df-convert:hover {\n",
              "      background-color: #E2EBFA;\n",
              "      box-shadow: 0px 1px 2px rgba(60, 64, 67, 0.3), 0px 1px 3px 1px rgba(60, 64, 67, 0.15);\n",
              "      fill: #174EA6;\n",
              "    }\n",
              "\n",
              "    [theme=dark] .colab-df-convert {\n",
              "      background-color: #3B4455;\n",
              "      fill: #D2E3FC;\n",
              "    }\n",
              "\n",
              "    [theme=dark] .colab-df-convert:hover {\n",
              "      background-color: #434B5C;\n",
              "      box-shadow: 0px 1px 3px 1px rgba(0, 0, 0, 0.15);\n",
              "      filter: drop-shadow(0px 1px 2px rgba(0, 0, 0, 0.3));\n",
              "      fill: #FFFFFF;\n",
              "    }\n",
              "  </style>\n",
              "\n",
              "      <script>\n",
              "        const buttonEl =\n",
              "          document.querySelector('#df-64621517-f3d2-465e-89b9-ceb2e429c704 button.colab-df-convert');\n",
              "        buttonEl.style.display =\n",
              "          google.colab.kernel.accessAllowed ? 'block' : 'none';\n",
              "\n",
              "        async function convertToInteractive(key) {\n",
              "          const element = document.querySelector('#df-64621517-f3d2-465e-89b9-ceb2e429c704');\n",
              "          const dataTable =\n",
              "            await google.colab.kernel.invokeFunction('convertToInteractive',\n",
              "                                                     [key], {});\n",
              "          if (!dataTable) return;\n",
              "\n",
              "          const docLinkHtml = 'Like what you see? Visit the ' +\n",
              "            '<a target=\"_blank\" href=https://colab.research.google.com/notebooks/data_table.ipynb>data table notebook</a>'\n",
              "            + ' to learn more about interactive tables.';\n",
              "          element.innerHTML = '';\n",
              "          dataTable['output_type'] = 'display_data';\n",
              "          await google.colab.output.renderOutput(dataTable, element);\n",
              "          const docLink = document.createElement('div');\n",
              "          docLink.innerHTML = docLinkHtml;\n",
              "          element.appendChild(docLink);\n",
              "        }\n",
              "      </script>\n",
              "    </div>\n",
              "  </div>\n",
              "  "
            ]
          },
          "metadata": {},
          "execution_count": 91
        }
      ]
    },
    {
      "cell_type": "code",
      "source": [
        "#This plot shows us what are the main features affecting the prediction of a single observation,\n",
        "# and the magnitude of the SHAP value for each feature.\n",
        "#This is the first participant\n",
        "shap.plots.bar(shap_values[0])"
      ],
      "metadata": {
        "colab": {
          "base_uri": "https://localhost:8080/",
          "height": 255
        },
        "id": "SlNG8YpUz0bz",
        "outputId": "16e0ce45-bf4f-4781-a0cc-89ddd7f64acb"
      },
      "execution_count": null,
      "outputs": [
        {
          "output_type": "display_data",
          "data": {
            "text/plain": [
              "<Figure size 576x252 with 1 Axes>"
            ],
            "image/png": "[encoded data removed]"
          },
          "metadata": {}
        }
      ]
    },
    {
      "cell_type": "code",
      "source": [
        "shap.plots.bar(shap_values[1])"
      ],
      "metadata": {
        "colab": {
          "base_uri": "https://localhost:8080/",
          "height": 255
        },
        "id": "pQvxToZZ4fyu",
        "outputId": "eb4f19e7-c5c4-41d6-a30a-a1c5f6adfad6"
      },
      "execution_count": null,
      "outputs": [
        {
          "output_type": "display_data",
          "data": {
            "text/plain": [
              "<Figure size 576x252 with 1 Axes>"
            ],
            "image/png": "[encoded data removed]"
          },
          "metadata": {}
        }
      ]
    },
    {
      "cell_type": "markdown",
      "source": [
        "The 2 plots above, show that the gender variable had a negative influence on the overrall prediction of the 2 candidates."
      ],
      "metadata": {
        "id": "tWgN9doOy5Vp"
      }
    },
    {
      "cell_type": "code",
      "source": [
        "shap.plots.bar(shap_values[3])"
      ],
      "metadata": {
        "colab": {
          "base_uri": "https://localhost:8080/",
          "height": 255
        },
        "id": "Z-aOrCzyxsyK",
        "outputId": "674b2840-a8fe-4e16-8a82-19af434890f8"
      },
      "execution_count": null,
      "outputs": [
        {
          "output_type": "display_data",
          "data": {
            "text/plain": [
              "<Figure size 576x252 with 1 Axes>"
            ],
            "image/png": "[encoded data removed]"
          },
          "metadata": {}
        }
      ]
    },
    {
      "cell_type": "code",
      "source": [
        "shap.plots.bar(shap_values[4])"
      ],
      "metadata": {
        "colab": {
          "base_uri": "https://localhost:8080/",
          "height": 255
        },
        "id": "VOxqq6oYzgLA",
        "outputId": "42a07e97-91f2-4003-a65b-869a33349fa2"
      },
      "execution_count": null,
      "outputs": [
        {
          "output_type": "display_data",
          "data": {
            "text/plain": [
              "<Figure size 576x252 with 1 Axes>"
            ],
            "image/png": "[encoded data removed]"
          },
          "metadata": {}
        }
      ]
    },
    {
      "cell_type": "markdown",
      "source": [
        "On the 2 plots above, we can note that the gender feature didnot negatively influence the prediction. Thereby proving the discrimination."
      ],
      "metadata": {
        "id": "rQNxR47rzCaC"
      }
    }
  ]
}